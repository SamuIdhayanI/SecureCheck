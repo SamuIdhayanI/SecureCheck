{
 "cells": [
  {
   "cell_type": "markdown",
   "id": "49ba7375",
   "metadata": {},
   "source": [
    "# SecureCheck - Data Preparation and SQL Database creation "
   ]
  },
  {
   "cell_type": "markdown",
   "id": "76c40166",
   "metadata": {},
   "source": [
    "---"
   ]
  },
  {
   "cell_type": "markdown",
   "id": "e83c1d03",
   "metadata": {},
   "source": [
    "### Step 1: Python for Data Processing\n",
    "### Remove the columns that only contains missing value\n",
    "### Handle the NAN values \n"
   ]
  },
  {
   "cell_type": "code",
   "execution_count": 1,
   "id": "4bc7c925",
   "metadata": {},
   "outputs": [],
   "source": [
    "# import needed libraries\n",
    "\n",
    "import pandas as pd\n",
    "from datetime import datetime"
   ]
  },
  {
   "cell_type": "code",
   "execution_count": 2,
   "id": "80239c6c",
   "metadata": {},
   "outputs": [],
   "source": [
    "# Load Data from CSV\n",
    "file_path = r\"traffic_stops - traffic_stops_with_vehicle_number.csv\"\n",
    "df = pd.read_csv(file_path)"
   ]
  },
  {
   "cell_type": "code",
   "execution_count": 3,
   "id": "d18d7093",
   "metadata": {},
   "outputs": [
    {
     "data": {
      "text/html": [
       "<div>\n",
       "<style scoped>\n",
       "    .dataframe tbody tr th:only-of-type {\n",
       "        vertical-align: middle;\n",
       "    }\n",
       "\n",
       "    .dataframe tbody tr th {\n",
       "        vertical-align: top;\n",
       "    }\n",
       "\n",
       "    .dataframe thead th {\n",
       "        text-align: right;\n",
       "    }\n",
       "</style>\n",
       "<table border=\"1\" class=\"dataframe\">\n",
       "  <thead>\n",
       "    <tr style=\"text-align: right;\">\n",
       "      <th></th>\n",
       "      <th>stop_date</th>\n",
       "      <th>stop_time</th>\n",
       "      <th>country_name</th>\n",
       "      <th>driver_gender</th>\n",
       "      <th>driver_age_raw</th>\n",
       "      <th>driver_age</th>\n",
       "      <th>driver_race</th>\n",
       "      <th>violation_raw</th>\n",
       "      <th>violation</th>\n",
       "      <th>search_conducted</th>\n",
       "      <th>search_type</th>\n",
       "      <th>stop_outcome</th>\n",
       "      <th>is_arrested</th>\n",
       "      <th>stop_duration</th>\n",
       "      <th>drugs_related_stop</th>\n",
       "      <th>vehicle_number</th>\n",
       "    </tr>\n",
       "  </thead>\n",
       "  <tbody>\n",
       "    <tr>\n",
       "      <th>0</th>\n",
       "      <td>2020-01-01</td>\n",
       "      <td>0:00:00</td>\n",
       "      <td>Canada</td>\n",
       "      <td>M</td>\n",
       "      <td>59</td>\n",
       "      <td>19</td>\n",
       "      <td>Asian</td>\n",
       "      <td>Drunk Driving</td>\n",
       "      <td>Speeding</td>\n",
       "      <td>True</td>\n",
       "      <td>Vehicle Search</td>\n",
       "      <td>Ticket</td>\n",
       "      <td>True</td>\n",
       "      <td>16-30 Min</td>\n",
       "      <td>True</td>\n",
       "      <td>UP76DY3473</td>\n",
       "    </tr>\n",
       "    <tr>\n",
       "      <th>1</th>\n",
       "      <td>2020-01-01</td>\n",
       "      <td>0:01:00</td>\n",
       "      <td>India</td>\n",
       "      <td>M</td>\n",
       "      <td>35</td>\n",
       "      <td>58</td>\n",
       "      <td>Other</td>\n",
       "      <td>Other</td>\n",
       "      <td>Other</td>\n",
       "      <td>False</td>\n",
       "      <td>Vehicle Search</td>\n",
       "      <td>Arrest</td>\n",
       "      <td>True</td>\n",
       "      <td>16-30 Min</td>\n",
       "      <td>True</td>\n",
       "      <td>RJ83PZ4441</td>\n",
       "    </tr>\n",
       "    <tr>\n",
       "      <th>2</th>\n",
       "      <td>2020-01-01</td>\n",
       "      <td>0:02:00</td>\n",
       "      <td>USA</td>\n",
       "      <td>M</td>\n",
       "      <td>26</td>\n",
       "      <td>76</td>\n",
       "      <td>Black</td>\n",
       "      <td>Signal Violation</td>\n",
       "      <td>Speeding</td>\n",
       "      <td>False</td>\n",
       "      <td>Frisk</td>\n",
       "      <td>Ticket</td>\n",
       "      <td>True</td>\n",
       "      <td>16-30 Min</td>\n",
       "      <td>True</td>\n",
       "      <td>RJ32OM7264</td>\n",
       "    </tr>\n",
       "    <tr>\n",
       "      <th>3</th>\n",
       "      <td>2020-01-01</td>\n",
       "      <td>0:03:00</td>\n",
       "      <td>Canada</td>\n",
       "      <td>M</td>\n",
       "      <td>26</td>\n",
       "      <td>76</td>\n",
       "      <td>Black</td>\n",
       "      <td>Speeding</td>\n",
       "      <td>DUI</td>\n",
       "      <td>True</td>\n",
       "      <td>Frisk</td>\n",
       "      <td>Warning</td>\n",
       "      <td>False</td>\n",
       "      <td>0-15 Min</td>\n",
       "      <td>True</td>\n",
       "      <td>RJ76TI3807</td>\n",
       "    </tr>\n",
       "    <tr>\n",
       "      <th>4</th>\n",
       "      <td>2020-01-01</td>\n",
       "      <td>0:04:00</td>\n",
       "      <td>Canada</td>\n",
       "      <td>M</td>\n",
       "      <td>62</td>\n",
       "      <td>75</td>\n",
       "      <td>Other</td>\n",
       "      <td>Speeding</td>\n",
       "      <td>Other</td>\n",
       "      <td>False</td>\n",
       "      <td>Vehicle Search</td>\n",
       "      <td>Arrest</td>\n",
       "      <td>True</td>\n",
       "      <td>16-30 Min</td>\n",
       "      <td>False</td>\n",
       "      <td>WB63BB8305</td>\n",
       "    </tr>\n",
       "    <tr>\n",
       "      <th>...</th>\n",
       "      <td>...</td>\n",
       "      <td>...</td>\n",
       "      <td>...</td>\n",
       "      <td>...</td>\n",
       "      <td>...</td>\n",
       "      <td>...</td>\n",
       "      <td>...</td>\n",
       "      <td>...</td>\n",
       "      <td>...</td>\n",
       "      <td>...</td>\n",
       "      <td>...</td>\n",
       "      <td>...</td>\n",
       "      <td>...</td>\n",
       "      <td>...</td>\n",
       "      <td>...</td>\n",
       "      <td>...</td>\n",
       "    </tr>\n",
       "    <tr>\n",
       "      <th>65533</th>\n",
       "      <td>2020-02-15</td>\n",
       "      <td>12:13:00</td>\n",
       "      <td>India</td>\n",
       "      <td>F</td>\n",
       "      <td>54</td>\n",
       "      <td>48</td>\n",
       "      <td>Black</td>\n",
       "      <td>Other</td>\n",
       "      <td>Other</td>\n",
       "      <td>False</td>\n",
       "      <td>Vehicle Search</td>\n",
       "      <td>Arrest</td>\n",
       "      <td>True</td>\n",
       "      <td>16-30 Min</td>\n",
       "      <td>False</td>\n",
       "      <td>DL56GW6568</td>\n",
       "    </tr>\n",
       "    <tr>\n",
       "      <th>65534</th>\n",
       "      <td>2020-02-15</td>\n",
       "      <td>12:14:00</td>\n",
       "      <td>Canada</td>\n",
       "      <td>F</td>\n",
       "      <td>18</td>\n",
       "      <td>35</td>\n",
       "      <td>Hispanic</td>\n",
       "      <td>Seatbelt</td>\n",
       "      <td>Other</td>\n",
       "      <td>True</td>\n",
       "      <td>Vehicle Search</td>\n",
       "      <td>Ticket</td>\n",
       "      <td>False</td>\n",
       "      <td>16-30 Min</td>\n",
       "      <td>True</td>\n",
       "      <td>TN73EO7098</td>\n",
       "    </tr>\n",
       "    <tr>\n",
       "      <th>65535</th>\n",
       "      <td>2020-02-15</td>\n",
       "      <td>12:15:00</td>\n",
       "      <td>USA</td>\n",
       "      <td>M</td>\n",
       "      <td>27</td>\n",
       "      <td>41</td>\n",
       "      <td>Asian</td>\n",
       "      <td>Seatbelt</td>\n",
       "      <td>DUI</td>\n",
       "      <td>True</td>\n",
       "      <td>Frisk</td>\n",
       "      <td>Ticket</td>\n",
       "      <td>True</td>\n",
       "      <td>30+ Min</td>\n",
       "      <td>True</td>\n",
       "      <td>GJ33MX8328</td>\n",
       "    </tr>\n",
       "    <tr>\n",
       "      <th>65536</th>\n",
       "      <td>2020-02-15</td>\n",
       "      <td>12:16:00</td>\n",
       "      <td>Canada</td>\n",
       "      <td>F</td>\n",
       "      <td>49</td>\n",
       "      <td>63</td>\n",
       "      <td>Black</td>\n",
       "      <td>Seatbelt</td>\n",
       "      <td>Other</td>\n",
       "      <td>False</td>\n",
       "      <td>None</td>\n",
       "      <td>Warning</td>\n",
       "      <td>True</td>\n",
       "      <td>0-15 Min</td>\n",
       "      <td>True</td>\n",
       "      <td>KA24UZ8488</td>\n",
       "    </tr>\n",
       "    <tr>\n",
       "      <th>65537</th>\n",
       "      <td>2020-02-15</td>\n",
       "      <td>12:17:00</td>\n",
       "      <td>USA</td>\n",
       "      <td>F</td>\n",
       "      <td>72</td>\n",
       "      <td>32</td>\n",
       "      <td>Other</td>\n",
       "      <td>Seatbelt</td>\n",
       "      <td>Speeding</td>\n",
       "      <td>True</td>\n",
       "      <td>None</td>\n",
       "      <td>Ticket</td>\n",
       "      <td>True</td>\n",
       "      <td>16-30 Min</td>\n",
       "      <td>False</td>\n",
       "      <td>UP89PT2924</td>\n",
       "    </tr>\n",
       "  </tbody>\n",
       "</table>\n",
       "<p>65538 rows × 16 columns</p>\n",
       "</div>"
      ],
      "text/plain": [
       "        stop_date stop_time country_name driver_gender  driver_age_raw  \\\n",
       "0      2020-01-01   0:00:00       Canada             M              59   \n",
       "1      2020-01-01   0:01:00        India             M              35   \n",
       "2      2020-01-01   0:02:00          USA             M              26   \n",
       "3      2020-01-01   0:03:00       Canada             M              26   \n",
       "4      2020-01-01   0:04:00       Canada             M              62   \n",
       "...           ...       ...          ...           ...             ...   \n",
       "65533  2020-02-15  12:13:00        India             F              54   \n",
       "65534  2020-02-15  12:14:00       Canada             F              18   \n",
       "65535  2020-02-15  12:15:00          USA             M              27   \n",
       "65536  2020-02-15  12:16:00       Canada             F              49   \n",
       "65537  2020-02-15  12:17:00          USA             F              72   \n",
       "\n",
       "       driver_age driver_race     violation_raw violation  search_conducted  \\\n",
       "0              19       Asian     Drunk Driving  Speeding              True   \n",
       "1              58       Other             Other     Other             False   \n",
       "2              76       Black  Signal Violation  Speeding             False   \n",
       "3              76       Black          Speeding       DUI              True   \n",
       "4              75       Other          Speeding     Other             False   \n",
       "...           ...         ...               ...       ...               ...   \n",
       "65533          48       Black             Other     Other             False   \n",
       "65534          35    Hispanic          Seatbelt     Other              True   \n",
       "65535          41       Asian          Seatbelt       DUI              True   \n",
       "65536          63       Black          Seatbelt     Other             False   \n",
       "65537          32       Other          Seatbelt  Speeding              True   \n",
       "\n",
       "          search_type stop_outcome  is_arrested stop_duration  \\\n",
       "0      Vehicle Search       Ticket         True     16-30 Min   \n",
       "1      Vehicle Search       Arrest         True     16-30 Min   \n",
       "2               Frisk       Ticket         True     16-30 Min   \n",
       "3               Frisk      Warning        False      0-15 Min   \n",
       "4      Vehicle Search       Arrest         True     16-30 Min   \n",
       "...               ...          ...          ...           ...   \n",
       "65533  Vehicle Search       Arrest         True     16-30 Min   \n",
       "65534  Vehicle Search       Ticket        False     16-30 Min   \n",
       "65535           Frisk       Ticket         True       30+ Min   \n",
       "65536            None      Warning         True      0-15 Min   \n",
       "65537            None       Ticket         True     16-30 Min   \n",
       "\n",
       "       drugs_related_stop vehicle_number  \n",
       "0                    True     UP76DY3473  \n",
       "1                    True     RJ83PZ4441  \n",
       "2                    True     RJ32OM7264  \n",
       "3                    True     RJ76TI3807  \n",
       "4                   False     WB63BB8305  \n",
       "...                   ...            ...  \n",
       "65533               False     DL56GW6568  \n",
       "65534                True     TN73EO7098  \n",
       "65535                True     GJ33MX8328  \n",
       "65536                True     KA24UZ8488  \n",
       "65537               False     UP89PT2924  \n",
       "\n",
       "[65538 rows x 16 columns]"
      ]
     },
     "execution_count": 3,
     "metadata": {},
     "output_type": "execute_result"
    }
   ],
   "source": [
    "df"
   ]
  },
  {
   "cell_type": "code",
   "execution_count": 4,
   "id": "ee766544",
   "metadata": {},
   "outputs": [],
   "source": [
    "# drop the columns with all missing values\n",
    "df.dropna(axis=1, how='all', inplace=True)\n",
    "\n"
   ]
  },
  {
   "cell_type": "code",
   "execution_count": 5,
   "id": "73302264",
   "metadata": {},
   "outputs": [],
   "source": [
    "# fill any Nan values\n",
    "df.fillna({\n",
    "    'country_name': 'Unkonwn',\n",
    "    'driver_gender': 'Unkonwn',\n",
    "    'driver_age': df['driver_age'].median(),\n",
    "    'driver_race': 'Unkonwn',\n",
    "    'search_type': 'None',\n",
    "    'violation': 'Unknown',\n",
    "    'stop_duration': 'Unknown',\n",
    "    'stop_outcome': 'Unknown',\n",
    "    'vehicle_number': 'Unkonwn'\n",
    "}, inplace=True)\n"
   ]
  },
  {
   "cell_type": "code",
   "execution_count": 6,
   "id": "8bb9455a",
   "metadata": {},
   "outputs": [],
   "source": [
    "# Convert date & time to timestamp\n",
    "df['timestamp'] = pd.to_datetime(df['stop_date'] + ' ' + df['stop_time'])"
   ]
  },
  {
   "cell_type": "code",
   "execution_count": 7,
   "id": "56d54d05",
   "metadata": {},
   "outputs": [
    {
     "data": {
      "text/html": [
       "<div>\n",
       "<style scoped>\n",
       "    .dataframe tbody tr th:only-of-type {\n",
       "        vertical-align: middle;\n",
       "    }\n",
       "\n",
       "    .dataframe tbody tr th {\n",
       "        vertical-align: top;\n",
       "    }\n",
       "\n",
       "    .dataframe thead th {\n",
       "        text-align: right;\n",
       "    }\n",
       "</style>\n",
       "<table border=\"1\" class=\"dataframe\">\n",
       "  <thead>\n",
       "    <tr style=\"text-align: right;\">\n",
       "      <th></th>\n",
       "      <th>stop_date</th>\n",
       "      <th>stop_time</th>\n",
       "      <th>country_name</th>\n",
       "      <th>driver_gender</th>\n",
       "      <th>driver_age_raw</th>\n",
       "      <th>driver_age</th>\n",
       "      <th>driver_race</th>\n",
       "      <th>violation_raw</th>\n",
       "      <th>violation</th>\n",
       "      <th>search_conducted</th>\n",
       "      <th>search_type</th>\n",
       "      <th>stop_outcome</th>\n",
       "      <th>is_arrested</th>\n",
       "      <th>stop_duration</th>\n",
       "      <th>drugs_related_stop</th>\n",
       "      <th>vehicle_number</th>\n",
       "      <th>timestamp</th>\n",
       "    </tr>\n",
       "  </thead>\n",
       "  <tbody>\n",
       "    <tr>\n",
       "      <th>0</th>\n",
       "      <td>2020-01-01</td>\n",
       "      <td>0:00:00</td>\n",
       "      <td>Canada</td>\n",
       "      <td>M</td>\n",
       "      <td>59</td>\n",
       "      <td>19</td>\n",
       "      <td>Asian</td>\n",
       "      <td>Drunk Driving</td>\n",
       "      <td>Speeding</td>\n",
       "      <td>True</td>\n",
       "      <td>Vehicle Search</td>\n",
       "      <td>Ticket</td>\n",
       "      <td>True</td>\n",
       "      <td>16-30 Min</td>\n",
       "      <td>True</td>\n",
       "      <td>UP76DY3473</td>\n",
       "      <td>2020-01-01 00:00:00</td>\n",
       "    </tr>\n",
       "    <tr>\n",
       "      <th>1</th>\n",
       "      <td>2020-01-01</td>\n",
       "      <td>0:01:00</td>\n",
       "      <td>India</td>\n",
       "      <td>M</td>\n",
       "      <td>35</td>\n",
       "      <td>58</td>\n",
       "      <td>Other</td>\n",
       "      <td>Other</td>\n",
       "      <td>Other</td>\n",
       "      <td>False</td>\n",
       "      <td>Vehicle Search</td>\n",
       "      <td>Arrest</td>\n",
       "      <td>True</td>\n",
       "      <td>16-30 Min</td>\n",
       "      <td>True</td>\n",
       "      <td>RJ83PZ4441</td>\n",
       "      <td>2020-01-01 00:01:00</td>\n",
       "    </tr>\n",
       "    <tr>\n",
       "      <th>2</th>\n",
       "      <td>2020-01-01</td>\n",
       "      <td>0:02:00</td>\n",
       "      <td>USA</td>\n",
       "      <td>M</td>\n",
       "      <td>26</td>\n",
       "      <td>76</td>\n",
       "      <td>Black</td>\n",
       "      <td>Signal Violation</td>\n",
       "      <td>Speeding</td>\n",
       "      <td>False</td>\n",
       "      <td>Frisk</td>\n",
       "      <td>Ticket</td>\n",
       "      <td>True</td>\n",
       "      <td>16-30 Min</td>\n",
       "      <td>True</td>\n",
       "      <td>RJ32OM7264</td>\n",
       "      <td>2020-01-01 00:02:00</td>\n",
       "    </tr>\n",
       "    <tr>\n",
       "      <th>3</th>\n",
       "      <td>2020-01-01</td>\n",
       "      <td>0:03:00</td>\n",
       "      <td>Canada</td>\n",
       "      <td>M</td>\n",
       "      <td>26</td>\n",
       "      <td>76</td>\n",
       "      <td>Black</td>\n",
       "      <td>Speeding</td>\n",
       "      <td>DUI</td>\n",
       "      <td>True</td>\n",
       "      <td>Frisk</td>\n",
       "      <td>Warning</td>\n",
       "      <td>False</td>\n",
       "      <td>0-15 Min</td>\n",
       "      <td>True</td>\n",
       "      <td>RJ76TI3807</td>\n",
       "      <td>2020-01-01 00:03:00</td>\n",
       "    </tr>\n",
       "    <tr>\n",
       "      <th>4</th>\n",
       "      <td>2020-01-01</td>\n",
       "      <td>0:04:00</td>\n",
       "      <td>Canada</td>\n",
       "      <td>M</td>\n",
       "      <td>62</td>\n",
       "      <td>75</td>\n",
       "      <td>Other</td>\n",
       "      <td>Speeding</td>\n",
       "      <td>Other</td>\n",
       "      <td>False</td>\n",
       "      <td>Vehicle Search</td>\n",
       "      <td>Arrest</td>\n",
       "      <td>True</td>\n",
       "      <td>16-30 Min</td>\n",
       "      <td>False</td>\n",
       "      <td>WB63BB8305</td>\n",
       "      <td>2020-01-01 00:04:00</td>\n",
       "    </tr>\n",
       "    <tr>\n",
       "      <th>...</th>\n",
       "      <td>...</td>\n",
       "      <td>...</td>\n",
       "      <td>...</td>\n",
       "      <td>...</td>\n",
       "      <td>...</td>\n",
       "      <td>...</td>\n",
       "      <td>...</td>\n",
       "      <td>...</td>\n",
       "      <td>...</td>\n",
       "      <td>...</td>\n",
       "      <td>...</td>\n",
       "      <td>...</td>\n",
       "      <td>...</td>\n",
       "      <td>...</td>\n",
       "      <td>...</td>\n",
       "      <td>...</td>\n",
       "      <td>...</td>\n",
       "    </tr>\n",
       "    <tr>\n",
       "      <th>65533</th>\n",
       "      <td>2020-02-15</td>\n",
       "      <td>12:13:00</td>\n",
       "      <td>India</td>\n",
       "      <td>F</td>\n",
       "      <td>54</td>\n",
       "      <td>48</td>\n",
       "      <td>Black</td>\n",
       "      <td>Other</td>\n",
       "      <td>Other</td>\n",
       "      <td>False</td>\n",
       "      <td>Vehicle Search</td>\n",
       "      <td>Arrest</td>\n",
       "      <td>True</td>\n",
       "      <td>16-30 Min</td>\n",
       "      <td>False</td>\n",
       "      <td>DL56GW6568</td>\n",
       "      <td>2020-02-15 12:13:00</td>\n",
       "    </tr>\n",
       "    <tr>\n",
       "      <th>65534</th>\n",
       "      <td>2020-02-15</td>\n",
       "      <td>12:14:00</td>\n",
       "      <td>Canada</td>\n",
       "      <td>F</td>\n",
       "      <td>18</td>\n",
       "      <td>35</td>\n",
       "      <td>Hispanic</td>\n",
       "      <td>Seatbelt</td>\n",
       "      <td>Other</td>\n",
       "      <td>True</td>\n",
       "      <td>Vehicle Search</td>\n",
       "      <td>Ticket</td>\n",
       "      <td>False</td>\n",
       "      <td>16-30 Min</td>\n",
       "      <td>True</td>\n",
       "      <td>TN73EO7098</td>\n",
       "      <td>2020-02-15 12:14:00</td>\n",
       "    </tr>\n",
       "    <tr>\n",
       "      <th>65535</th>\n",
       "      <td>2020-02-15</td>\n",
       "      <td>12:15:00</td>\n",
       "      <td>USA</td>\n",
       "      <td>M</td>\n",
       "      <td>27</td>\n",
       "      <td>41</td>\n",
       "      <td>Asian</td>\n",
       "      <td>Seatbelt</td>\n",
       "      <td>DUI</td>\n",
       "      <td>True</td>\n",
       "      <td>Frisk</td>\n",
       "      <td>Ticket</td>\n",
       "      <td>True</td>\n",
       "      <td>30+ Min</td>\n",
       "      <td>True</td>\n",
       "      <td>GJ33MX8328</td>\n",
       "      <td>2020-02-15 12:15:00</td>\n",
       "    </tr>\n",
       "    <tr>\n",
       "      <th>65536</th>\n",
       "      <td>2020-02-15</td>\n",
       "      <td>12:16:00</td>\n",
       "      <td>Canada</td>\n",
       "      <td>F</td>\n",
       "      <td>49</td>\n",
       "      <td>63</td>\n",
       "      <td>Black</td>\n",
       "      <td>Seatbelt</td>\n",
       "      <td>Other</td>\n",
       "      <td>False</td>\n",
       "      <td>None</td>\n",
       "      <td>Warning</td>\n",
       "      <td>True</td>\n",
       "      <td>0-15 Min</td>\n",
       "      <td>True</td>\n",
       "      <td>KA24UZ8488</td>\n",
       "      <td>2020-02-15 12:16:00</td>\n",
       "    </tr>\n",
       "    <tr>\n",
       "      <th>65537</th>\n",
       "      <td>2020-02-15</td>\n",
       "      <td>12:17:00</td>\n",
       "      <td>USA</td>\n",
       "      <td>F</td>\n",
       "      <td>72</td>\n",
       "      <td>32</td>\n",
       "      <td>Other</td>\n",
       "      <td>Seatbelt</td>\n",
       "      <td>Speeding</td>\n",
       "      <td>True</td>\n",
       "      <td>None</td>\n",
       "      <td>Ticket</td>\n",
       "      <td>True</td>\n",
       "      <td>16-30 Min</td>\n",
       "      <td>False</td>\n",
       "      <td>UP89PT2924</td>\n",
       "      <td>2020-02-15 12:17:00</td>\n",
       "    </tr>\n",
       "  </tbody>\n",
       "</table>\n",
       "<p>65538 rows × 17 columns</p>\n",
       "</div>"
      ],
      "text/plain": [
       "        stop_date stop_time country_name driver_gender  driver_age_raw  \\\n",
       "0      2020-01-01   0:00:00       Canada             M              59   \n",
       "1      2020-01-01   0:01:00        India             M              35   \n",
       "2      2020-01-01   0:02:00          USA             M              26   \n",
       "3      2020-01-01   0:03:00       Canada             M              26   \n",
       "4      2020-01-01   0:04:00       Canada             M              62   \n",
       "...           ...       ...          ...           ...             ...   \n",
       "65533  2020-02-15  12:13:00        India             F              54   \n",
       "65534  2020-02-15  12:14:00       Canada             F              18   \n",
       "65535  2020-02-15  12:15:00          USA             M              27   \n",
       "65536  2020-02-15  12:16:00       Canada             F              49   \n",
       "65537  2020-02-15  12:17:00          USA             F              72   \n",
       "\n",
       "       driver_age driver_race     violation_raw violation  search_conducted  \\\n",
       "0              19       Asian     Drunk Driving  Speeding              True   \n",
       "1              58       Other             Other     Other             False   \n",
       "2              76       Black  Signal Violation  Speeding             False   \n",
       "3              76       Black          Speeding       DUI              True   \n",
       "4              75       Other          Speeding     Other             False   \n",
       "...           ...         ...               ...       ...               ...   \n",
       "65533          48       Black             Other     Other             False   \n",
       "65534          35    Hispanic          Seatbelt     Other              True   \n",
       "65535          41       Asian          Seatbelt       DUI              True   \n",
       "65536          63       Black          Seatbelt     Other             False   \n",
       "65537          32       Other          Seatbelt  Speeding              True   \n",
       "\n",
       "          search_type stop_outcome  is_arrested stop_duration  \\\n",
       "0      Vehicle Search       Ticket         True     16-30 Min   \n",
       "1      Vehicle Search       Arrest         True     16-30 Min   \n",
       "2               Frisk       Ticket         True     16-30 Min   \n",
       "3               Frisk      Warning        False      0-15 Min   \n",
       "4      Vehicle Search       Arrest         True     16-30 Min   \n",
       "...               ...          ...          ...           ...   \n",
       "65533  Vehicle Search       Arrest         True     16-30 Min   \n",
       "65534  Vehicle Search       Ticket        False     16-30 Min   \n",
       "65535           Frisk       Ticket         True       30+ Min   \n",
       "65536            None      Warning         True      0-15 Min   \n",
       "65537            None       Ticket         True     16-30 Min   \n",
       "\n",
       "       drugs_related_stop vehicle_number           timestamp  \n",
       "0                    True     UP76DY3473 2020-01-01 00:00:00  \n",
       "1                    True     RJ83PZ4441 2020-01-01 00:01:00  \n",
       "2                    True     RJ32OM7264 2020-01-01 00:02:00  \n",
       "3                    True     RJ76TI3807 2020-01-01 00:03:00  \n",
       "4                   False     WB63BB8305 2020-01-01 00:04:00  \n",
       "...                   ...            ...                 ...  \n",
       "65533               False     DL56GW6568 2020-02-15 12:13:00  \n",
       "65534                True     TN73EO7098 2020-02-15 12:14:00  \n",
       "65535                True     GJ33MX8328 2020-02-15 12:15:00  \n",
       "65536                True     KA24UZ8488 2020-02-15 12:16:00  \n",
       "65537               False     UP89PT2924 2020-02-15 12:17:00  \n",
       "\n",
       "[65538 rows x 17 columns]"
      ]
     },
     "execution_count": 7,
     "metadata": {},
     "output_type": "execute_result"
    }
   ],
   "source": [
    "# dataframe after data cleaning and preprocess steps\n",
    "df"
   ]
  },
  {
   "cell_type": "code",
   "execution_count": 8,
   "id": "396bcc5e",
   "metadata": {},
   "outputs": [
    {
     "name": "stdout",
     "output_type": "stream",
     "text": [
      "Column: stop_date, Data type: object\n",
      "Column: stop_time, Data type: object\n",
      "Column: country_name, Data type: object\n",
      "Column: driver_gender, Data type: object\n",
      "Column: driver_age_raw, Data type: int64\n",
      "Column: driver_age, Data type: int64\n",
      "Column: driver_race, Data type: object\n",
      "Column: violation_raw, Data type: object\n",
      "Column: violation, Data type: object\n",
      "Column: search_conducted, Data type: bool\n",
      "Column: search_type, Data type: object\n",
      "Column: stop_outcome, Data type: object\n",
      "Column: is_arrested, Data type: bool\n",
      "Column: stop_duration, Data type: object\n",
      "Column: drugs_related_stop, Data type: bool\n",
      "Column: vehicle_number, Data type: object\n",
      "Column: timestamp, Data type: datetime64[ns]\n"
     ]
    }
   ],
   "source": [
    "# Columns and their data types\n",
    "\n",
    "for col, dtype in df.dtypes.items():\n",
    "    print(f\"Column: {col}, Data type: {dtype}\")\n"
   ]
  },
  {
   "cell_type": "code",
   "execution_count": 9,
   "id": "40b68cf9",
   "metadata": {},
   "outputs": [
    {
     "data": {
      "text/plain": [
       "array(['2020-01-01', '2020-01-02', '2020-01-03', '2020-01-04',\n",
       "       '2020-01-05', '2020-01-06', '2020-01-07', '2020-01-08',\n",
       "       '2020-01-09', '2020-01-10', '2020-01-11', '2020-01-12',\n",
       "       '2020-01-13', '2020-01-14', '2020-01-15', '2020-01-16',\n",
       "       '2020-01-17', '2020-01-18', '2020-01-19', '2020-01-20',\n",
       "       '2020-01-21', '2020-01-22', '2020-01-23', '2020-01-24',\n",
       "       '2020-01-25', '2020-01-26', '2020-01-27', '2020-01-28',\n",
       "       '2020-01-29', '2020-01-30', '2020-01-31', '2020-02-01',\n",
       "       '2020-02-02', '2020-02-03', '2020-02-04', '2020-02-05',\n",
       "       '2020-02-06', '2020-02-07', '2020-02-08', '2020-02-09',\n",
       "       '2020-02-10', '2020-02-11', '2020-02-12', '2020-02-13',\n",
       "       '2020-02-14', '2020-02-15'], dtype=object)"
      ]
     },
     "execution_count": 9,
     "metadata": {},
     "output_type": "execute_result"
    }
   ],
   "source": [
    "df['stop_date'].unique()"
   ]
  },
  {
   "cell_type": "code",
   "execution_count": 10,
   "id": "776e5a19",
   "metadata": {},
   "outputs": [
    {
     "data": {
      "text/plain": [
       "array(['0:00:00', '0:01:00', '0:02:00', ..., '23:57:00', '23:58:00',\n",
       "       '23:59:00'], dtype=object)"
      ]
     },
     "execution_count": 10,
     "metadata": {},
     "output_type": "execute_result"
    }
   ],
   "source": [
    "df['stop_time'].unique()"
   ]
  },
  {
   "cell_type": "code",
   "execution_count": null,
   "id": "d6fd5df7",
   "metadata": {},
   "outputs": [
    {
     "data": {
      "text/plain": [
       "array(['Canada', 'India', 'USA'], dtype=object)"
      ]
     },
     "execution_count": 30,
     "metadata": {},
     "output_type": "execute_result"
    }
   ],
   "source": [
    "df['country_name'].unique()"
   ]
  },
  {
   "cell_type": "code",
   "execution_count": null,
   "id": "5efb4fdf",
   "metadata": {},
   "outputs": [
    {
     "data": {
      "text/plain": [
       "array(['M', 'F'], dtype=object)"
      ]
     },
     "execution_count": 31,
     "metadata": {},
     "output_type": "execute_result"
    }
   ],
   "source": [
    "df['driver_gender'].unique()"
   ]
  },
  {
   "cell_type": "code",
   "execution_count": null,
   "id": "20774329",
   "metadata": {},
   "outputs": [
    {
     "data": {
      "text/plain": [
       "array([19, 58, 76, 75, 73, 70, 50, 30, 21, 53, 46, 25, 51, 55, 71, 41, 47,\n",
       "       59, 60, 56, 61, 69, 39, 23, 26, 24, 64, 68, 65, 67, 74, 32, 28, 18,\n",
       "       43, 48, 78, 77, 22, 31, 37, 35, 40, 20, 63, 49, 45, 38, 72, 79, 36,\n",
       "       66, 80, 44, 54, 34, 29, 33, 62, 27, 42, 52, 57])"
      ]
     },
     "execution_count": 32,
     "metadata": {},
     "output_type": "execute_result"
    }
   ],
   "source": [
    "df['driver_age'].unique()"
   ]
  },
  {
   "cell_type": "code",
   "execution_count": null,
   "id": "1ee15b45",
   "metadata": {},
   "outputs": [
    {
     "data": {
      "text/plain": [
       "array(['Asian', 'Other', 'Black', 'White', 'Hispanic'], dtype=object)"
      ]
     },
     "execution_count": 33,
     "metadata": {},
     "output_type": "execute_result"
    }
   ],
   "source": [
    "df['driver_race'].unique()"
   ]
  },
  {
   "cell_type": "code",
   "execution_count": 34,
   "id": "e7680ab2",
   "metadata": {},
   "outputs": [
    {
     "data": {
      "text/plain": [
       "array(['Speeding', 'Other', 'DUI', 'Seatbelt', 'Signal'], dtype=object)"
      ]
     },
     "execution_count": 34,
     "metadata": {},
     "output_type": "execute_result"
    }
   ],
   "source": [
    "df['violation'].unique()"
   ]
  },
  {
   "cell_type": "code",
   "execution_count": 35,
   "id": "9c7d0b58",
   "metadata": {},
   "outputs": [
    {
     "data": {
      "text/plain": [
       "array([ True, False])"
      ]
     },
     "execution_count": 35,
     "metadata": {},
     "output_type": "execute_result"
    }
   ],
   "source": [
    "df['search_conducted'].unique()"
   ]
  },
  {
   "cell_type": "code",
   "execution_count": 36,
   "id": "3682b7fe",
   "metadata": {},
   "outputs": [
    {
     "data": {
      "text/plain": [
       "array(['Vehicle Search', 'Frisk', 'None'], dtype=object)"
      ]
     },
     "execution_count": 36,
     "metadata": {},
     "output_type": "execute_result"
    }
   ],
   "source": [
    "df['search_type'].unique()"
   ]
  },
  {
   "cell_type": "code",
   "execution_count": 37,
   "id": "f5be49df",
   "metadata": {},
   "outputs": [
    {
     "data": {
      "text/plain": [
       "array(['Ticket', 'Arrest', 'Warning'], dtype=object)"
      ]
     },
     "execution_count": 37,
     "metadata": {},
     "output_type": "execute_result"
    }
   ],
   "source": [
    "df['stop_outcome'].unique()"
   ]
  },
  {
   "cell_type": "code",
   "execution_count": 38,
   "id": "e4ec4eb1",
   "metadata": {},
   "outputs": [
    {
     "data": {
      "text/plain": [
       "array([ True, False])"
      ]
     },
     "execution_count": 38,
     "metadata": {},
     "output_type": "execute_result"
    }
   ],
   "source": [
    "df['is_arrested'].unique()"
   ]
  },
  {
   "cell_type": "code",
   "execution_count": 39,
   "id": "77c1ae5b",
   "metadata": {},
   "outputs": [
    {
     "data": {
      "text/plain": [
       "array(['16-30 Min', '0-15 Min', '30+ Min'], dtype=object)"
      ]
     },
     "execution_count": 39,
     "metadata": {},
     "output_type": "execute_result"
    }
   ],
   "source": [
    "df['stop_duration'].unique()"
   ]
  },
  {
   "cell_type": "code",
   "execution_count": 40,
   "id": "46604a84",
   "metadata": {},
   "outputs": [
    {
     "data": {
      "text/plain": [
       "array([ True, False])"
      ]
     },
     "execution_count": 40,
     "metadata": {},
     "output_type": "execute_result"
    }
   ],
   "source": [
    "df['drugs_related_stop'].unique()"
   ]
  },
  {
   "cell_type": "code",
   "execution_count": 11,
   "id": "2619999f",
   "metadata": {},
   "outputs": [
    {
     "data": {
      "text/plain": [
       "array(['UP76DY3473', 'RJ83PZ4441', 'RJ32OM7264', ..., 'GJ33MX8328',\n",
       "       'KA24UZ8488', 'UP89PT2924'], dtype=object)"
      ]
     },
     "execution_count": 11,
     "metadata": {},
     "output_type": "execute_result"
    }
   ],
   "source": [
    "df['vehicle_number'].unique()"
   ]
  },
  {
   "cell_type": "code",
   "execution_count": 12,
   "id": "c848c5bc",
   "metadata": {},
   "outputs": [
    {
     "data": {
      "text/plain": [
       "UP76DY3473    1\n",
       "TN85QV9799    1\n",
       "MH58WJ5665    1\n",
       "UP25TH6328    1\n",
       "MH45LW7277    1\n",
       "             ..\n",
       "GJ63ID7644    1\n",
       "DL28QQ5849    1\n",
       "KA10ZY2083    1\n",
       "TN32II2166    1\n",
       "UP89PT2924    1\n",
       "Name: vehicle_number, Length: 65538, dtype: int64"
      ]
     },
     "execution_count": 12,
     "metadata": {},
     "output_type": "execute_result"
    }
   ],
   "source": [
    "df['vehicle_number'].value_counts()\n"
   ]
  },
  {
   "cell_type": "code",
   "execution_count": 10,
   "id": "344d1e95",
   "metadata": {},
   "outputs": [
    {
     "data": {
      "text/plain": [
       "array(['2020-01-01T00:00:00.000000000', '2020-01-01T00:01:00.000000000',\n",
       "       '2020-01-01T00:02:00.000000000', ...,\n",
       "       '2020-02-15T12:15:00.000000000', '2020-02-15T12:16:00.000000000',\n",
       "       '2020-02-15T12:17:00.000000000'], dtype='datetime64[ns]')"
      ]
     },
     "execution_count": 10,
     "metadata": {},
     "output_type": "execute_result"
    }
   ],
   "source": [
    "df['timestamp'].unique()\n"
   ]
  },
  {
   "cell_type": "code",
   "execution_count": 16,
   "id": "1fd06526",
   "metadata": {},
   "outputs": [
    {
     "name": "stdout",
     "output_type": "stream",
     "text": [
      "Number of entries with hour=0, month=1, year=2020: 900\n"
     ]
    }
   ],
   "source": [
    "# Ensure 'timestamp' is in datetime format (optional if already datetime64[ns])\n",
    "df['timestamp'] = pd.to_datetime(df['timestamp'])\n",
    "\n",
    "# Filter based on hour, month, and year\n",
    "filtered_df = df[\n",
    "    (df['timestamp'].dt.hour == 5) &\n",
    "    (df['timestamp'].dt.month == 2) &\n",
    "    (df['timestamp'].dt.year == 2020)\n",
    "]\n",
    "\n",
    "# Count the number of matching entries\n",
    "count = len(filtered_df)\n",
    "\n",
    "print(\"Number of entries with hour=0, month=1, year=2020:\", count)\n"
   ]
  },
  {
   "cell_type": "markdown",
   "id": "5375dd99",
   "metadata": {},
   "source": [
    "---"
   ]
  },
  {
   "cell_type": "markdown",
   "id": "fb720085",
   "metadata": {},
   "source": [
    "### Step 2: Database Design (SQL)"
   ]
  },
  {
   "cell_type": "code",
   "execution_count": 25,
   "id": "f866afb7",
   "metadata": {},
   "outputs": [],
   "source": [
    "# import needed library\n",
    "import mysql.connector"
   ]
  },
  {
   "cell_type": "code",
   "execution_count": 26,
   "id": "3156048e",
   "metadata": {},
   "outputs": [],
   "source": [
    "# connect with SQL\n",
    "\n",
    "connection = mysql.connector.connect(\n",
    "    host=\"localhost\",\n",
    "    user=\"root\",\n",
    "    password=\"Sacheart$731\",  \n",
    ")\n",
    "\n",
    "cursor = connection.cursor()"
   ]
  },
  {
   "cell_type": "code",
   "execution_count": 27,
   "id": "81be9576",
   "metadata": {},
   "outputs": [],
   "source": [
    "# Drop the database if it exists\n",
    "cursor.execute(\"DROP DATABASE IF EXISTS securecheck\")"
   ]
  },
  {
   "cell_type": "code",
   "execution_count": 28,
   "id": "802141f5",
   "metadata": {},
   "outputs": [],
   "source": [
    "# Create the database\n",
    "cursor.execute(\"CREATE DATABASE securecheck\")"
   ]
  },
  {
   "cell_type": "code",
   "execution_count": 29,
   "id": "5f04f78a",
   "metadata": {},
   "outputs": [],
   "source": [
    "# Switch to using the new database\n",
    "cursor.execute(\"USE securecheck\")"
   ]
  },
  {
   "cell_type": "code",
   "execution_count": 41,
   "id": "8b4f529f",
   "metadata": {},
   "outputs": [],
   "source": [
    "# Define the table 'traffic_stops'\n",
    "create_table_query = \"\"\"\n",
    "CREATE TABLE traffic_stops (\n",
    "    id INT AUTO_INCREMENT PRIMARY KEY,\n",
    "    stop_date VARCHAR(20),\n",
    "    stop_time VARCHAR(20),\n",
    "    country_name VARCHAR(100),\n",
    "    driver_gender VARCHAR(10),\n",
    "    driver_age_raw INT,\n",
    "    driver_age INT,\n",
    "    driver_race VARCHAR(50),\n",
    "    violation_raw VARCHAR(100),\n",
    "    violation VARCHAR(100),\n",
    "    search_conducted BOOLEAN,\n",
    "    search_type VARCHAR(100),\n",
    "    stop_outcome VARCHAR(100),\n",
    "    is_arrested BOOLEAN,\n",
    "    stop_duration VARCHAR(100),\n",
    "    drugs_related_stop BOOLEAN,\n",
    "    vehicle_number VARCHAR(100),\n",
    "    timestamp DATETIME\n",
    ")\n",
    "\"\"\"\n",
    "cursor.execute(create_table_query)"
   ]
  },
  {
   "cell_type": "code",
   "execution_count": 42,
   "id": "ff7b6bc6",
   "metadata": {},
   "outputs": [],
   "source": [
    "# the insert query\n",
    "insert_query = \"\"\"\n",
    "INSERT INTO traffic_stops (\n",
    "    stop_date, stop_time, country_name, driver_gender, driver_age_raw, driver_age,\n",
    "    driver_race, violation_raw, violation, search_conducted, search_type,\n",
    "    stop_outcome, is_arrested, stop_duration, drugs_related_stop,\n",
    "    vehicle_number, timestamp\n",
    ") VALUES (%s, %s, %s, %s, %s, %s, %s, %s, %s, %s, %s, %s, %s, %s, %s, %s, %s)\n",
    "\"\"\""
   ]
  },
  {
   "cell_type": "code",
   "execution_count": 43,
   "id": "f7bb36f6",
   "metadata": {},
   "outputs": [],
   "source": [
    "# Convert DataFrame to list of tuples\n",
    "data_tuples = list(df[[\n",
    "    'stop_date', 'stop_time', 'country_name', 'driver_gender', 'driver_age_raw',\n",
    "    'driver_age', 'driver_race', 'violation_raw', 'violation', 'search_conducted',\n",
    "    'search_type', 'stop_outcome', 'is_arrested', 'stop_duration',\n",
    "    'drugs_related_stop', 'vehicle_number', 'timestamp'\n",
    "]].itertuples(index=False, name=None))"
   ]
  },
  {
   "cell_type": "code",
   "execution_count": 44,
   "id": "f4afec30",
   "metadata": {},
   "outputs": [],
   "source": [
    "# insert into the table\n",
    "cursor.executemany(insert_query, data_tuples)\n",
    "connection.commit()"
   ]
  },
  {
   "cell_type": "code",
   "execution_count": null,
   "id": "57c6fefb",
   "metadata": {},
   "outputs": [
    {
     "name": "stdout",
     "output_type": "stream",
     "text": [
      "65538 rows inserted into 'traffic_stops'.\n"
     ]
    }
   ],
   "source": [
    "\n",
    "print(f\"{cursor.rowcount} rows inserted into 'traffic_stops'.\")"
   ]
  },
  {
   "cell_type": "code",
   "execution_count": 48,
   "id": "89f8b9b9",
   "metadata": {},
   "outputs": [
    {
     "name": "stdout",
     "output_type": "stream",
     "text": [
      "Number of rows in the dataframe: 65538\n",
      "Number of columns in the dataframe: 17\n",
      "Number of rows in the table: 65538\n",
      "Number of columns in the table: 18\n"
     ]
    }
   ],
   "source": [
    "# verify the insert\n",
    "\n",
    "# counts from the data frame\n",
    "# the row count\n",
    "print(\"Number of rows in the dataframe:\", df.shape[0])\n",
    "# the column count\n",
    "print(\"Number of columns in the dataframe:\", df.shape[1])\n",
    "\n",
    "# counts from the SQL table\n",
    "# the row count\n",
    "cursor.execute(\"SELECT COUNT(*) FROM traffic_stops\")\n",
    "row_count = cursor.fetchone()[0]\n",
    "print(f\"Number of rows in the table: {row_count}\")\n",
    "\n",
    "# the column count\n",
    "cursor.execute(\"DESCRIBE traffic_stops\")\n",
    "column_count = len(cursor.fetchall())  # Count the number of rows in the result of DESCRIBE\n",
    "print(f\"Number of columns in the table: {column_count}\")\n"
   ]
  },
  {
   "cell_type": "code",
   "execution_count": 49,
   "id": "ef1de929",
   "metadata": {},
   "outputs": [],
   "source": [
    "cursor.close()\n",
    "connection.close()"
   ]
  },
  {
   "cell_type": "code",
   "execution_count": null,
   "id": "1e12cbd4",
   "metadata": {},
   "outputs": [],
   "source": []
  }
 ],
 "metadata": {
  "kernelspec": {
   "display_name": "base",
   "language": "python",
   "name": "python3"
  },
  "language_info": {
   "codemirror_mode": {
    "name": "ipython",
    "version": 3
   },
   "file_extension": ".py",
   "mimetype": "text/x-python",
   "name": "python",
   "nbconvert_exporter": "python",
   "pygments_lexer": "ipython3",
   "version": "3.11.3"
  }
 },
 "nbformat": 4,
 "nbformat_minor": 5
}
